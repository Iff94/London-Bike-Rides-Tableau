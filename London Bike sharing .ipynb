{
 "cells": [
  {
   "cell_type": "code",
   "execution_count": 62,
   "id": "629c5304",
   "metadata": {},
   "outputs": [
    {
     "name": "stdout",
     "output_type": "stream",
     "text": [
      "Requirement already satisfied: kaggle in /Users/iffathfaraz/opt/anaconda3/lib/python3.9/site-packages (1.6.3)\n",
      "Requirement already satisfied: six>=1.10 in /Users/iffathfaraz/opt/anaconda3/lib/python3.9/site-packages (from kaggle) (1.16.0)\n",
      "Requirement already satisfied: certifi in /Users/iffathfaraz/opt/anaconda3/lib/python3.9/site-packages (from kaggle) (2023.11.17)\n",
      "Requirement already satisfied: python-dateutil in /Users/iffathfaraz/opt/anaconda3/lib/python3.9/site-packages (from kaggle) (2.8.2)\n",
      "Requirement already satisfied: requests in /Users/iffathfaraz/opt/anaconda3/lib/python3.9/site-packages (from kaggle) (2.28.1)\n",
      "Requirement already satisfied: tqdm in /Users/iffathfaraz/opt/anaconda3/lib/python3.9/site-packages (from kaggle) (4.64.1)\n",
      "Requirement already satisfied: python-slugify in /Users/iffathfaraz/opt/anaconda3/lib/python3.9/site-packages (from kaggle) (5.0.2)\n",
      "Requirement already satisfied: urllib3 in /Users/iffathfaraz/opt/anaconda3/lib/python3.9/site-packages (from kaggle) (1.26.12)\n",
      "Requirement already satisfied: bleach in /Users/iffathfaraz/opt/anaconda3/lib/python3.9/site-packages (from kaggle) (4.1.0)\n",
      "Requirement already satisfied: packaging in /Users/iffathfaraz/opt/anaconda3/lib/python3.9/site-packages (from bleach->kaggle) (21.3)\n",
      "Requirement already satisfied: webencodings in /Users/iffathfaraz/opt/anaconda3/lib/python3.9/site-packages (from bleach->kaggle) (0.5.1)\n",
      "Requirement already satisfied: text-unidecode>=1.3 in /Users/iffathfaraz/opt/anaconda3/lib/python3.9/site-packages (from python-slugify->kaggle) (1.3)\n",
      "Requirement already satisfied: charset-normalizer<3,>=2 in /Users/iffathfaraz/opt/anaconda3/lib/python3.9/site-packages (from requests->kaggle) (2.0.4)\n",
      "Requirement already satisfied: idna<4,>=2.5 in /Users/iffathfaraz/opt/anaconda3/lib/python3.9/site-packages (from requests->kaggle) (3.4)\n",
      "Requirement already satisfied: pyparsing!=3.0.5,>=2.0.2 in /Users/iffathfaraz/opt/anaconda3/lib/python3.9/site-packages (from packaging->bleach->kaggle) (3.0.9)\n"
     ]
    }
   ],
   "source": [
    "!pip install kaggle"
   ]
  },
  {
   "cell_type": "code",
   "execution_count": 63,
   "id": "bb380f58",
   "metadata": {},
   "outputs": [],
   "source": [
    "import zipfile\n",
    "import pandas as pd\n",
    "import kaggle"
   ]
  },
  {
   "cell_type": "markdown",
   "id": "9c7fc6cf",
   "metadata": {},
   "source": [
    "# Documentation on how to use Kaggle API"
   ]
  },
  {
   "cell_type": "markdown",
   "id": "318777f4",
   "metadata": {},
   "source": [
    "https://www.kaggle.com/docs/api"
   ]
  },
  {
   "cell_type": "markdown",
   "id": "34f730ba",
   "metadata": {},
   "source": [
    "# Download Dataset from Kaggle by using Kaggle API"
   ]
  },
  {
   "cell_type": "code",
   "execution_count": 64,
   "id": "431cc42b",
   "metadata": {},
   "outputs": [
    {
     "name": "stdout",
     "output_type": "stream",
     "text": [
      "london-bike-sharing-dataset.zip: Skipping, found more recently modified local copy (use --force to force download)\r\n"
     ]
    }
   ],
   "source": [
    "!kaggle datasets download -d hmavrodiev/london-bike-sharing-dataset"
   ]
  },
  {
   "cell_type": "code",
   "execution_count": 65,
   "id": "da1f0537",
   "metadata": {},
   "outputs": [
    {
     "name": "stdout",
     "output_type": "stream",
     "text": [
      "Files extracted successfully to: extracted_files\n"
     ]
    }
   ],
   "source": [
    "import os\n",
    "\n",
    "# Path to the zip file\n",
    "zip_file_path = \"london-bike-sharing-dataset.zip\"\n",
    "\n",
    "# Directory to extract the files into\n",
    "extract_dir = \"extracted_files\"\n",
    "\n",
    "# Create the extraction directory if it doesn't exist\n",
    "if not os.path.exists(extract_dir):\n",
    "    os.makedirs(extract_dir)\n",
    "\n",
    "# Open the zip file\n",
    "with zipfile.ZipFile(zip_file_path, 'r') as zip_ref:\n",
    "    # Extract all contents to the extraction directory\n",
    "    zip_ref.extractall(extract_dir)\n",
    "\n",
    "print(\"Files extracted successfully to:\", extract_dir)"
   ]
  },
  {
   "cell_type": "code",
   "execution_count": 66,
   "id": "3bb2d638",
   "metadata": {},
   "outputs": [],
   "source": [
    "bikes = pd.read_csv(\"london_merged.csv\")"
   ]
  },
  {
   "cell_type": "code",
   "execution_count": 67,
   "id": "27933fe5",
   "metadata": {},
   "outputs": [
    {
     "name": "stdout",
     "output_type": "stream",
     "text": [
      "<class 'pandas.core.frame.DataFrame'>\n",
      "RangeIndex: 17414 entries, 0 to 17413\n",
      "Data columns (total 10 columns):\n",
      " #   Column        Non-Null Count  Dtype  \n",
      "---  ------        --------------  -----  \n",
      " 0   timestamp     17414 non-null  object \n",
      " 1   cnt           17414 non-null  int64  \n",
      " 2   t1            17414 non-null  float64\n",
      " 3   t2            17414 non-null  float64\n",
      " 4   hum           17414 non-null  float64\n",
      " 5   wind_speed    17414 non-null  float64\n",
      " 6   weather_code  17414 non-null  float64\n",
      " 7   is_holiday    17414 non-null  float64\n",
      " 8   is_weekend    17414 non-null  float64\n",
      " 9   season        17414 non-null  float64\n",
      "dtypes: float64(8), int64(1), object(1)\n",
      "memory usage: 1.3+ MB\n"
     ]
    }
   ],
   "source": [
    "bikes.info()"
   ]
  },
  {
   "cell_type": "code",
   "execution_count": 68,
   "id": "7018c40b",
   "metadata": {},
   "outputs": [
    {
     "data": {
      "text/plain": [
       "(17414, 10)"
      ]
     },
     "execution_count": 68,
     "metadata": {},
     "output_type": "execute_result"
    }
   ],
   "source": [
    "bikes.shape"
   ]
  },
  {
   "cell_type": "code",
   "execution_count": 69,
   "id": "f941d3ba",
   "metadata": {},
   "outputs": [
    {
     "data": {
      "text/html": [
       "<div>\n",
       "<style scoped>\n",
       "    .dataframe tbody tr th:only-of-type {\n",
       "        vertical-align: middle;\n",
       "    }\n",
       "\n",
       "    .dataframe tbody tr th {\n",
       "        vertical-align: top;\n",
       "    }\n",
       "\n",
       "    .dataframe thead th {\n",
       "        text-align: right;\n",
       "    }\n",
       "</style>\n",
       "<table border=\"1\" class=\"dataframe\">\n",
       "  <thead>\n",
       "    <tr style=\"text-align: right;\">\n",
       "      <th></th>\n",
       "      <th>timestamp</th>\n",
       "      <th>cnt</th>\n",
       "      <th>t1</th>\n",
       "      <th>t2</th>\n",
       "      <th>hum</th>\n",
       "      <th>wind_speed</th>\n",
       "      <th>weather_code</th>\n",
       "      <th>is_holiday</th>\n",
       "      <th>is_weekend</th>\n",
       "      <th>season</th>\n",
       "    </tr>\n",
       "  </thead>\n",
       "  <tbody>\n",
       "    <tr>\n",
       "      <th>0</th>\n",
       "      <td>2015-01-04 00:00:00</td>\n",
       "      <td>182</td>\n",
       "      <td>3.0</td>\n",
       "      <td>2.0</td>\n",
       "      <td>93.0</td>\n",
       "      <td>6.0</td>\n",
       "      <td>3.0</td>\n",
       "      <td>0.0</td>\n",
       "      <td>1.0</td>\n",
       "      <td>3.0</td>\n",
       "    </tr>\n",
       "    <tr>\n",
       "      <th>1</th>\n",
       "      <td>2015-01-04 01:00:00</td>\n",
       "      <td>138</td>\n",
       "      <td>3.0</td>\n",
       "      <td>2.5</td>\n",
       "      <td>93.0</td>\n",
       "      <td>5.0</td>\n",
       "      <td>1.0</td>\n",
       "      <td>0.0</td>\n",
       "      <td>1.0</td>\n",
       "      <td>3.0</td>\n",
       "    </tr>\n",
       "    <tr>\n",
       "      <th>2</th>\n",
       "      <td>2015-01-04 02:00:00</td>\n",
       "      <td>134</td>\n",
       "      <td>2.5</td>\n",
       "      <td>2.5</td>\n",
       "      <td>96.5</td>\n",
       "      <td>0.0</td>\n",
       "      <td>1.0</td>\n",
       "      <td>0.0</td>\n",
       "      <td>1.0</td>\n",
       "      <td>3.0</td>\n",
       "    </tr>\n",
       "    <tr>\n",
       "      <th>3</th>\n",
       "      <td>2015-01-04 03:00:00</td>\n",
       "      <td>72</td>\n",
       "      <td>2.0</td>\n",
       "      <td>2.0</td>\n",
       "      <td>100.0</td>\n",
       "      <td>0.0</td>\n",
       "      <td>1.0</td>\n",
       "      <td>0.0</td>\n",
       "      <td>1.0</td>\n",
       "      <td>3.0</td>\n",
       "    </tr>\n",
       "    <tr>\n",
       "      <th>4</th>\n",
       "      <td>2015-01-04 04:00:00</td>\n",
       "      <td>47</td>\n",
       "      <td>2.0</td>\n",
       "      <td>0.0</td>\n",
       "      <td>93.0</td>\n",
       "      <td>6.5</td>\n",
       "      <td>1.0</td>\n",
       "      <td>0.0</td>\n",
       "      <td>1.0</td>\n",
       "      <td>3.0</td>\n",
       "    </tr>\n",
       "  </tbody>\n",
       "</table>\n",
       "</div>"
      ],
      "text/plain": [
       "             timestamp  cnt   t1   t2    hum  wind_speed  weather_code  \\\n",
       "0  2015-01-04 00:00:00  182  3.0  2.0   93.0         6.0           3.0   \n",
       "1  2015-01-04 01:00:00  138  3.0  2.5   93.0         5.0           1.0   \n",
       "2  2015-01-04 02:00:00  134  2.5  2.5   96.5         0.0           1.0   \n",
       "3  2015-01-04 03:00:00   72  2.0  2.0  100.0         0.0           1.0   \n",
       "4  2015-01-04 04:00:00   47  2.0  0.0   93.0         6.5           1.0   \n",
       "\n",
       "   is_holiday  is_weekend  season  \n",
       "0         0.0         1.0     3.0  \n",
       "1         0.0         1.0     3.0  \n",
       "2         0.0         1.0     3.0  \n",
       "3         0.0         1.0     3.0  \n",
       "4         0.0         1.0     3.0  "
      ]
     },
     "execution_count": 69,
     "metadata": {},
     "output_type": "execute_result"
    }
   ],
   "source": [
    "bikes.head()"
   ]
  },
  {
   "cell_type": "code",
   "execution_count": 70,
   "id": "0b4619a2",
   "metadata": {},
   "outputs": [
    {
     "data": {
      "text/plain": [
       "1.0     6150\n",
       "2.0     4034\n",
       "3.0     3551\n",
       "7.0     2141\n",
       "4.0     1464\n",
       "26.0      60\n",
       "10.0      14\n",
       "Name: weather_code, dtype: int64"
      ]
     },
     "execution_count": 70,
     "metadata": {},
     "output_type": "execute_result"
    }
   ],
   "source": [
    "bikes.weather_code.value_counts()"
   ]
  },
  {
   "cell_type": "code",
   "execution_count": 71,
   "id": "8ee685c2",
   "metadata": {},
   "outputs": [
    {
     "data": {
      "text/plain": [
       "0.0    4394\n",
       "1.0    4387\n",
       "3.0    4330\n",
       "2.0    4303\n",
       "Name: season, dtype: int64"
      ]
     },
     "execution_count": 71,
     "metadata": {},
     "output_type": "execute_result"
    }
   ],
   "source": [
    "bikes.season.value_counts()"
   ]
  },
  {
   "cell_type": "code",
   "execution_count": 72,
   "id": "3b8c6f98",
   "metadata": {},
   "outputs": [],
   "source": [
    "new_column_dict ={\n",
    "    \"timestamp\": \"Time\",\n",
    "    \"cnt\":\"Count\",\n",
    "    \"t1\":\"Temp_real\",\n",
    "    \"t2\":\"Temp_feels_like\",\n",
    "    \"hum\":\"Humidity_percent\",\n",
    "    \"wind_speed\":\"Wind_speed_kmph\",\n",
    "    \"weather_code\":\"Weather\",\n",
    "    \"is_holiday\":\"is_holiday\",\n",
    "    \"is_weekend\":\"is_weekend\",\n",
    "    \"season\":\"season\"\n",
    "}\n",
    "\n",
    "bikes.rename(new_column_dict, axis=1, inplace=True)"
   ]
  },
  {
   "cell_type": "code",
   "execution_count": 73,
   "id": "f520dc9c",
   "metadata": {
    "scrolled": true
   },
   "outputs": [
    {
     "data": {
      "text/html": [
       "<div>\n",
       "<style scoped>\n",
       "    .dataframe tbody tr th:only-of-type {\n",
       "        vertical-align: middle;\n",
       "    }\n",
       "\n",
       "    .dataframe tbody tr th {\n",
       "        vertical-align: top;\n",
       "    }\n",
       "\n",
       "    .dataframe thead th {\n",
       "        text-align: right;\n",
       "    }\n",
       "</style>\n",
       "<table border=\"1\" class=\"dataframe\">\n",
       "  <thead>\n",
       "    <tr style=\"text-align: right;\">\n",
       "      <th></th>\n",
       "      <th>Time</th>\n",
       "      <th>Count</th>\n",
       "      <th>Temp_real</th>\n",
       "      <th>Temp_feels_like</th>\n",
       "      <th>Humidity_percent</th>\n",
       "      <th>Wind_speed_kmph</th>\n",
       "      <th>Weather</th>\n",
       "      <th>is_holiday</th>\n",
       "      <th>is_weekend</th>\n",
       "      <th>season</th>\n",
       "    </tr>\n",
       "  </thead>\n",
       "  <tbody>\n",
       "    <tr>\n",
       "      <th>0</th>\n",
       "      <td>2015-01-04 00:00:00</td>\n",
       "      <td>182</td>\n",
       "      <td>3.0</td>\n",
       "      <td>2.0</td>\n",
       "      <td>93.0</td>\n",
       "      <td>6.0</td>\n",
       "      <td>3.0</td>\n",
       "      <td>0.0</td>\n",
       "      <td>1.0</td>\n",
       "      <td>3.0</td>\n",
       "    </tr>\n",
       "    <tr>\n",
       "      <th>1</th>\n",
       "      <td>2015-01-04 01:00:00</td>\n",
       "      <td>138</td>\n",
       "      <td>3.0</td>\n",
       "      <td>2.5</td>\n",
       "      <td>93.0</td>\n",
       "      <td>5.0</td>\n",
       "      <td>1.0</td>\n",
       "      <td>0.0</td>\n",
       "      <td>1.0</td>\n",
       "      <td>3.0</td>\n",
       "    </tr>\n",
       "    <tr>\n",
       "      <th>2</th>\n",
       "      <td>2015-01-04 02:00:00</td>\n",
       "      <td>134</td>\n",
       "      <td>2.5</td>\n",
       "      <td>2.5</td>\n",
       "      <td>96.5</td>\n",
       "      <td>0.0</td>\n",
       "      <td>1.0</td>\n",
       "      <td>0.0</td>\n",
       "      <td>1.0</td>\n",
       "      <td>3.0</td>\n",
       "    </tr>\n",
       "    <tr>\n",
       "      <th>3</th>\n",
       "      <td>2015-01-04 03:00:00</td>\n",
       "      <td>72</td>\n",
       "      <td>2.0</td>\n",
       "      <td>2.0</td>\n",
       "      <td>100.0</td>\n",
       "      <td>0.0</td>\n",
       "      <td>1.0</td>\n",
       "      <td>0.0</td>\n",
       "      <td>1.0</td>\n",
       "      <td>3.0</td>\n",
       "    </tr>\n",
       "    <tr>\n",
       "      <th>4</th>\n",
       "      <td>2015-01-04 04:00:00</td>\n",
       "      <td>47</td>\n",
       "      <td>2.0</td>\n",
       "      <td>0.0</td>\n",
       "      <td>93.0</td>\n",
       "      <td>6.5</td>\n",
       "      <td>1.0</td>\n",
       "      <td>0.0</td>\n",
       "      <td>1.0</td>\n",
       "      <td>3.0</td>\n",
       "    </tr>\n",
       "  </tbody>\n",
       "</table>\n",
       "</div>"
      ],
      "text/plain": [
       "                  Time  Count  Temp_real  Temp_feels_like  Humidity_percent  \\\n",
       "0  2015-01-04 00:00:00    182        3.0              2.0              93.0   \n",
       "1  2015-01-04 01:00:00    138        3.0              2.5              93.0   \n",
       "2  2015-01-04 02:00:00    134        2.5              2.5              96.5   \n",
       "3  2015-01-04 03:00:00     72        2.0              2.0             100.0   \n",
       "4  2015-01-04 04:00:00     47        2.0              0.0              93.0   \n",
       "\n",
       "   Wind_speed_kmph  Weather  is_holiday  is_weekend  season  \n",
       "0              6.0      3.0         0.0         1.0     3.0  \n",
       "1              5.0      1.0         0.0         1.0     3.0  \n",
       "2              0.0      1.0         0.0         1.0     3.0  \n",
       "3              0.0      1.0         0.0         1.0     3.0  \n",
       "4              6.5      1.0         0.0         1.0     3.0  "
      ]
     },
     "execution_count": 73,
     "metadata": {},
     "output_type": "execute_result"
    }
   ],
   "source": [
    "bikes.head()"
   ]
  },
  {
   "cell_type": "code",
   "execution_count": 74,
   "id": "9554111e",
   "metadata": {},
   "outputs": [
    {
     "data": {
      "text/plain": [
       "0.0    4394\n",
       "1.0    4387\n",
       "3.0    4330\n",
       "2.0    4303\n",
       "Name: season, dtype: int64"
      ]
     },
     "execution_count": 74,
     "metadata": {},
     "output_type": "execute_result"
    }
   ],
   "source": [
    "bikes.season.value_counts()"
   ]
  },
  {
   "cell_type": "code",
   "execution_count": 75,
   "id": "cf82b9c4",
   "metadata": {},
   "outputs": [
    {
     "data": {
      "text/plain": [
       "1.0     6150\n",
       "2.0     4034\n",
       "3.0     3551\n",
       "7.0     2141\n",
       "4.0     1464\n",
       "26.0      60\n",
       "10.0      14\n",
       "Name: Weather, dtype: int64"
      ]
     },
     "execution_count": 75,
     "metadata": {},
     "output_type": "execute_result"
    }
   ],
   "source": [
    "bikes.Weather.value_counts()"
   ]
  },
  {
   "cell_type": "code",
   "execution_count": 76,
   "id": "6c2ed9c9",
   "metadata": {},
   "outputs": [],
   "source": [
    "\n",
    "# Creating a Season dictionary\n",
    "\n",
    "season_dict = {\n",
    "    \"0.0\":\"Spring\",\n",
    "    \"1.0\":\"Summer\",\n",
    "    \"2.0\": \"Autumn\",\n",
    "    \"3.0\":\"Winter\"\n",
    "    \n",
    "}\n",
    "\n",
    "\n",
    "weather_dist ={\n",
    "    \n",
    "    \"1.0\":\"Clear\",\n",
    "    \"2.0\":\"Scattered Clouds\",\n",
    "    \"3.0\":\"Broken Clouds\",\n",
    "    \"4.0\":\"Cloudy\",\n",
    "    \"7.0\":\"Rain\",\n",
    "    \"10.0\":\"Rain with Thunderstrom\",\n",
    "    \"26.0\":\"Snowfall\"\n",
    "}\n",
    "\n"
   ]
  },
  {
   "cell_type": "code",
   "execution_count": 78,
   "id": "9677a7b5",
   "metadata": {},
   "outputs": [],
   "source": [
    "bikes.season=bikes.season.astype(\"str\")"
   ]
  },
  {
   "cell_type": "code",
   "execution_count": 79,
   "id": "4f81e312",
   "metadata": {},
   "outputs": [],
   "source": [
    "bikes.season= bikes.season.map(season_dict)"
   ]
  },
  {
   "cell_type": "code",
   "execution_count": 82,
   "id": "b073ae64",
   "metadata": {},
   "outputs": [],
   "source": [
    "bikes.Weather=bikes.Weather.astype(\"str\")"
   ]
  },
  {
   "cell_type": "code",
   "execution_count": 83,
   "id": "aa644182",
   "metadata": {},
   "outputs": [],
   "source": [
    "bikes.Weather= bikes.Weather.map(weather_dist)"
   ]
  },
  {
   "cell_type": "code",
   "execution_count": 84,
   "id": "a9cea71d",
   "metadata": {},
   "outputs": [
    {
     "data": {
      "text/plain": [
       "Time                 object\n",
       "Count                 int64\n",
       "Temp_real           float64\n",
       "Temp_feels_like     float64\n",
       "Humidity_percent    float64\n",
       "Wind_speed_kmph     float64\n",
       "Weather              object\n",
       "is_holiday          float64\n",
       "is_weekend          float64\n",
       "season               object\n",
       "dtype: object"
      ]
     },
     "execution_count": 84,
     "metadata": {},
     "output_type": "execute_result"
    }
   ],
   "source": [
    "bikes.dtypes"
   ]
  },
  {
   "cell_type": "code",
   "execution_count": 85,
   "id": "1def5379",
   "metadata": {},
   "outputs": [
    {
     "data": {
      "text/html": [
       "<div>\n",
       "<style scoped>\n",
       "    .dataframe tbody tr th:only-of-type {\n",
       "        vertical-align: middle;\n",
       "    }\n",
       "\n",
       "    .dataframe tbody tr th {\n",
       "        vertical-align: top;\n",
       "    }\n",
       "\n",
       "    .dataframe thead th {\n",
       "        text-align: right;\n",
       "    }\n",
       "</style>\n",
       "<table border=\"1\" class=\"dataframe\">\n",
       "  <thead>\n",
       "    <tr style=\"text-align: right;\">\n",
       "      <th></th>\n",
       "      <th>Time</th>\n",
       "      <th>Count</th>\n",
       "      <th>Temp_real</th>\n",
       "      <th>Temp_feels_like</th>\n",
       "      <th>Humidity_percent</th>\n",
       "      <th>Wind_speed_kmph</th>\n",
       "      <th>Weather</th>\n",
       "      <th>is_holiday</th>\n",
       "      <th>is_weekend</th>\n",
       "      <th>season</th>\n",
       "    </tr>\n",
       "  </thead>\n",
       "  <tbody>\n",
       "    <tr>\n",
       "      <th>0</th>\n",
       "      <td>2015-01-04 00:00:00</td>\n",
       "      <td>182</td>\n",
       "      <td>3.0</td>\n",
       "      <td>2.0</td>\n",
       "      <td>93.0</td>\n",
       "      <td>6.0</td>\n",
       "      <td>Broken Clouds</td>\n",
       "      <td>0.0</td>\n",
       "      <td>1.0</td>\n",
       "      <td>Winter</td>\n",
       "    </tr>\n",
       "    <tr>\n",
       "      <th>1</th>\n",
       "      <td>2015-01-04 01:00:00</td>\n",
       "      <td>138</td>\n",
       "      <td>3.0</td>\n",
       "      <td>2.5</td>\n",
       "      <td>93.0</td>\n",
       "      <td>5.0</td>\n",
       "      <td>Clear</td>\n",
       "      <td>0.0</td>\n",
       "      <td>1.0</td>\n",
       "      <td>Winter</td>\n",
       "    </tr>\n",
       "    <tr>\n",
       "      <th>2</th>\n",
       "      <td>2015-01-04 02:00:00</td>\n",
       "      <td>134</td>\n",
       "      <td>2.5</td>\n",
       "      <td>2.5</td>\n",
       "      <td>96.5</td>\n",
       "      <td>0.0</td>\n",
       "      <td>Clear</td>\n",
       "      <td>0.0</td>\n",
       "      <td>1.0</td>\n",
       "      <td>Winter</td>\n",
       "    </tr>\n",
       "    <tr>\n",
       "      <th>3</th>\n",
       "      <td>2015-01-04 03:00:00</td>\n",
       "      <td>72</td>\n",
       "      <td>2.0</td>\n",
       "      <td>2.0</td>\n",
       "      <td>100.0</td>\n",
       "      <td>0.0</td>\n",
       "      <td>Clear</td>\n",
       "      <td>0.0</td>\n",
       "      <td>1.0</td>\n",
       "      <td>Winter</td>\n",
       "    </tr>\n",
       "    <tr>\n",
       "      <th>4</th>\n",
       "      <td>2015-01-04 04:00:00</td>\n",
       "      <td>47</td>\n",
       "      <td>2.0</td>\n",
       "      <td>0.0</td>\n",
       "      <td>93.0</td>\n",
       "      <td>6.5</td>\n",
       "      <td>Clear</td>\n",
       "      <td>0.0</td>\n",
       "      <td>1.0</td>\n",
       "      <td>Winter</td>\n",
       "    </tr>\n",
       "  </tbody>\n",
       "</table>\n",
       "</div>"
      ],
      "text/plain": [
       "                  Time  Count  Temp_real  Temp_feels_like  Humidity_percent  \\\n",
       "0  2015-01-04 00:00:00    182        3.0              2.0              93.0   \n",
       "1  2015-01-04 01:00:00    138        3.0              2.5              93.0   \n",
       "2  2015-01-04 02:00:00    134        2.5              2.5              96.5   \n",
       "3  2015-01-04 03:00:00     72        2.0              2.0             100.0   \n",
       "4  2015-01-04 04:00:00     47        2.0              0.0              93.0   \n",
       "\n",
       "   Wind_speed_kmph        Weather  is_holiday  is_weekend  season  \n",
       "0              6.0  Broken Clouds         0.0         1.0  Winter  \n",
       "1              5.0          Clear         0.0         1.0  Winter  \n",
       "2              0.0          Clear         0.0         1.0  Winter  \n",
       "3              0.0          Clear         0.0         1.0  Winter  \n",
       "4              6.5          Clear         0.0         1.0  Winter  "
      ]
     },
     "execution_count": 85,
     "metadata": {},
     "output_type": "execute_result"
    }
   ],
   "source": [
    "bikes.head()"
   ]
  },
  {
   "cell_type": "code",
   "execution_count": 86,
   "id": "e6e92ce5",
   "metadata": {},
   "outputs": [
    {
     "data": {
      "text/plain": [
       "0.0    17030\n",
       "1.0      384\n",
       "Name: is_holiday, dtype: int64"
      ]
     },
     "execution_count": 86,
     "metadata": {},
     "output_type": "execute_result"
    }
   ],
   "source": [
    "bikes.is_holiday.value_counts()"
   ]
  },
  {
   "cell_type": "code",
   "execution_count": 87,
   "id": "3427d880",
   "metadata": {},
   "outputs": [
    {
     "data": {
      "text/plain": [
       "0.0    12444\n",
       "1.0     4970\n",
       "Name: is_weekend, dtype: int64"
      ]
     },
     "execution_count": 87,
     "metadata": {},
     "output_type": "execute_result"
    }
   ],
   "source": [
    "bikes.is_weekend.value_counts()"
   ]
  },
  {
   "cell_type": "code",
   "execution_count": 88,
   "id": "fa473c30",
   "metadata": {},
   "outputs": [],
   "source": [
    "bikes.to_excel(\"london_bikes_final.xlsx\",sheet_name=\"Data\")"
   ]
  },
  {
   "cell_type": "code",
   "execution_count": null,
   "id": "004d139d",
   "metadata": {},
   "outputs": [],
   "source": []
  }
 ],
 "metadata": {
  "kernelspec": {
   "display_name": "Python 3 (ipykernel)",
   "language": "python",
   "name": "python3"
  },
  "language_info": {
   "codemirror_mode": {
    "name": "ipython",
    "version": 3
   },
   "file_extension": ".py",
   "mimetype": "text/x-python",
   "name": "python",
   "nbconvert_exporter": "python",
   "pygments_lexer": "ipython3",
   "version": "3.9.15"
  }
 },
 "nbformat": 4,
 "nbformat_minor": 5
}
